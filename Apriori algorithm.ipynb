{
 "cells": [
  {
   "cell_type": "markdown",
   "metadata": {},
   "source": [
    "# Apriori algorithm"
   ]
  },
  {
   "cell_type": "markdown",
   "metadata": {},
   "source": [
    "data from provided"
   ]
  },
  {
   "cell_type": "code",
   "execution_count": 1,
   "metadata": {},
   "outputs": [],
   "source": [
    "import numpy as np\n",
    "import pandas as pd\n",
    "\n",
    "# import the data\n",
    "data = pd.read_csv('dataset.csv', names = ['item_ID', 'time', 'transaction_ID', 'product_ID'], \n",
    "                   index_col = 'item_ID')\n",
    "del data['time']\n",
    "\n",
    "\n",
    "# get a data of lists of item which each transactions contains\n",
    "group = data.groupby('transaction_ID')['product_ID'].apply(list)"
   ]
  },
  {
   "cell_type": "code",
   "execution_count": 2,
   "metadata": {},
   "outputs": [
    {
     "name": "stdout",
     "output_type": "stream",
     "text": [
      "transaction_ID\n",
      "2             [12, 6, 91, 60, 91]\n",
      "3        [37, 28, 68, 27, 47, 27]\n",
      "4                [58, 30, 29, 89]\n",
      "5                            [94]\n",
      "6                        [53, 17]\n",
      "7            [18, 93, 18, 93, 87]\n",
      "8        [56, 80, 51, 55, 51, 69]\n",
      "9     [55, 87, 84, 87, 41, 5, 41]\n",
      "10               [38, 99, 92, 27]\n",
      "11                   [18, 18, 19]\n",
      "Name: product_ID, dtype: object\n"
     ]
    }
   ],
   "source": [
    "print(group[:10])"
   ]
  },
  {
   "cell_type": "code",
   "execution_count": 3,
   "metadata": {},
   "outputs": [],
   "source": [
    "# define a function that used to create a list of single candidate of items\n",
    "def create_single(group):\n",
    "    single_list = []\n",
    "    for transaction in group:\n",
    "        for item in transaction:\n",
    "            if not [item] in single_list:\n",
    "                single_list.append([item])\n",
    "                \n",
    "    # make the list a fronzen set easier to handle\n",
    "    single_list = list(map(frozenset, sorted(single_list)))\n",
    "    \n",
    "    return single_list"
   ]
  },
  {
   "cell_type": "code",
   "execution_count": 4,
   "metadata": {},
   "outputs": [],
   "source": [
    "# define a function that used to get all the support values of the candidate\n",
    "def scan_transactions(transactions, can_list, min_support):\n",
    "    can_dict = {}\n",
    "    for t_id in transactions:\n",
    "        for can in can_list:\n",
    "            if can.issubset(t_id):\n",
    "                if can not in can_dict.keys(): \n",
    "                    can_dict[can] = 1\n",
    "                else: \n",
    "                    can_dict[can] += 1\n",
    "    \n",
    "    counts = float(len(transactions))\n",
    "    ret = []\n",
    "    support_data = {}\n",
    "    for key in can_dict.keys():\n",
    "        support_value = can_dict[key] / counts\n",
    "        if support_value >= min_support:\n",
    "            ret.insert(0,key)\n",
    "        support_data[key] = support_value\n",
    "        \n",
    "    return ret, support_data"
   ]
  },
  {
   "cell_type": "code",
   "execution_count": 5,
   "metadata": {},
   "outputs": [],
   "source": [
    "# define a function that used to created a list of multiple candidate itemsets\n",
    "def combine(target_list, k):\n",
    "    ret = []\n",
    "    lenth = len(target_list)\n",
    "    for i in range(lenth):\n",
    "        for j in range(i+1, lenth): \n",
    "            L1 = sorted(list(target_list[i])[:k-2])\n",
    "            L2 = sorted(list(target_list[j])[:k-2])\n",
    "            \n",
    "            #if first k-2 elements are equal\n",
    "            if L1==L2: \n",
    "                ret.append(target_list[i] | target_list[j])\n",
    "                \n",
    "    return ret"
   ]
  },
  {
   "cell_type": "code",
   "execution_count": 6,
   "metadata": {},
   "outputs": [],
   "source": [
    "# define a function that used to get all the list of candidate item combines and its support value\n",
    "def calc_support(dataSet, min_support):\n",
    "    single_list = create_single(dataSet)\n",
    "    transactions = list(map(set, dataSet))\n",
    "    ret1, support_data = scan_transactions(transactions, single_list, min_support)\n",
    "    ret = [ret1]\n",
    "    k = 2\n",
    "    while (len(ret[k-2]) > 0):\n",
    "        retk = combine(ret[k-2], k)\n",
    "        ret2, sup_k = scan_transactions(transactions, retk, min_support)\n",
    "        support_data.update(sup_k)\n",
    "        ret.append(ret2)\n",
    "        k += 1\n",
    "        \n",
    "    return ret, support_data"
   ]
  },
  {
   "cell_type": "code",
   "execution_count": 7,
   "metadata": {},
   "outputs": [],
   "source": [
    "# define a function that used to calculate the confidence of the support dataset and set a min_conf threshold\n",
    "def calc_conf(subset, ret, support_data, total_list, min_conf):\n",
    "    conf_list = []\n",
    "    for conseq in ret:\n",
    "        # calculate confidence\n",
    "        conf = support_data[subset] / support_data[subset-conseq]\n",
    "        if conf >= min_conf: \n",
    "            total_list.append((subset-conseq, conseq, conf))\n",
    "            conf_list.append(conseq)\n",
    "            \n",
    "    return conf_list"
   ]
  },
  {
   "cell_type": "code",
   "execution_count": 8,
   "metadata": {},
   "outputs": [],
   "source": [
    "# define a function that associate the rules with the original dataset\n",
    "def calc_rules(subset, ret, support_data, total_list, min_conf):\n",
    "    m = len(ret[0])\n",
    "    if (len(subset) > (m + 1)): #try further merging\n",
    "        mask_ret = combine(ret, m+1)#create Hm+1 new candidates\n",
    "        mask_ret = calc_conf(subset, mask_ret, support_data, total_list, min_conf)\n",
    "        if (len(mask_ret) > 1):    #need at least two sets to merge\n",
    "            calc_rules(subset, mask_ret, support_data, total_list, min_conf)"
   ]
  },
  {
   "cell_type": "code",
   "execution_count": 9,
   "metadata": {},
   "outputs": [],
   "source": [
    "# define a function used to implement the apriori algorithm\n",
    "def apriori(combine_list, support_data, min_conf):\n",
    "    total_list = []\n",
    "    for i in range(1, len(combine_list)):\n",
    "        for subset in combine_list[i]:\n",
    "            ret = [frozenset([item]) for item in subset]\n",
    "            if (i > 1):\n",
    "                calc_rules(subset, ret, support_data, total_list, min_conf)\n",
    "            else:\n",
    "                calc_conf(subset, ret, support_data, total_list, min_conf)\n",
    "                \n",
    "    return total_list "
   ]
  },
  {
   "cell_type": "code",
   "execution_count": 10,
   "metadata": {},
   "outputs": [],
   "source": [
    "# since it's a large dataset, the min_support need to be much small\n",
    "combine_list, support_data = calc_support(group, min_support = 0.0002)"
   ]
  },
  {
   "cell_type": "code",
   "execution_count": 11,
   "metadata": {},
   "outputs": [],
   "source": [
    "# set the min_conf equal to 0.8, let's say the probability over 80% are always sold together\n",
    "rules = apriori(combine_list, support_data, min_conf = 0.8)"
   ]
  },
  {
   "cell_type": "code",
   "execution_count": 12,
   "metadata": {
    "scrolled": false
   },
   "outputs": [
    {
     "name": "stdout",
     "output_type": "stream",
     "text": [
      "If the target product is sold, the most possible other product will also be sold is listed in the following\n",
      "\n",
      "Target product_ID \tPossible product_ID \tProbability\n",
      "frozenset({81}) \t frozenset({32}) \t 0.9295093296475466\n",
      "frozenset({95}) \t frozenset({34}) \t 0.8040023543260741\n",
      "frozenset({53}) \t frozenset({17}) \t 0.9469259064634789\n",
      "frozenset({17}) \t frozenset({53}) \t 0.9504219409282701\n",
      "frozenset({67, 45}) \t frozenset({100, 71}) \t 0.8846153846153847\n",
      "frozenset({67, 29}) \t frozenset({89, 85}) \t 0.8666666666666666\n",
      "frozenset({67, 36}) \t frozenset({85, 94}) \t 0.8799999999999999\n",
      "frozenset({96, 79}) \t frozenset({91, 35}) \t 0.8823529411764706\n",
      "frozenset({16, 18}) \t frozenset({19, 94}) \t 0.8787878787878789\n",
      "frozenset({40, 13}) \t frozenset({96, 91}) \t 0.8378378378378378\n",
      "frozenset({96, 78}) \t frozenset({10, 91}) \t 0.8709677419354839\n",
      "frozenset({36, 76}) \t frozenset({82, 94}) \t 0.92\n",
      "frozenset({16, 70}) \t frozenset({19, 94}) \t 0.8285714285714286\n",
      "frozenset({63, 39}) \t frozenset({90, 38}) \t 0.8043478260869564\n",
      "frozenset({18, 86}) \t frozenset({98, 7}) \t 0.9090909090909091\n",
      "frozenset({49, 2}) \t frozenset({98, 54}) \t 0.9333333333333335\n",
      "frozenset({20, 95}) \t frozenset({34, 4}) \t 0.9285714285714285\n",
      "frozenset({42, 11}) \t frozenset({21, 6}) \t 0.8750000000000001\n",
      "frozenset({11, 86}) \t frozenset({80, 78}) \t 0.8840579710144929\n",
      "frozenset({8, 38}) \t frozenset({60, 63}) \t 0.8571428571428571\n",
      "frozenset({21, 46}) \t frozenset({59, 83}) \t 0.8799999999999999\n",
      "frozenset({49, 85}) \t frozenset({73, 9}) \t 0.8076923076923078\n",
      "frozenset({64, 46}) \t frozenset({83, 31}) \t 0.8333333333333333\n",
      "frozenset({64, 11}) \t frozenset({80, 100}) \t 0.8333333333333334\n",
      "frozenset({16, 52}) \t frozenset({36, 94}) \t 1.0\n",
      "frozenset({81, 76}) \t frozenset({32, 82}) \t 0.8043478260869564\n",
      "frozenset({56, 46}) \t frozenset({19, 22}) \t 0.8620689655172413\n",
      "frozenset({32, 66}) \t frozenset({82, 7}) \t 0.8157894736842105\n",
      "frozenset({16, 33}) \t frozenset({36, 94}) \t 0.9722222222222222\n",
      "frozenset({4, 6}) \t frozenset({34, 21}) \t 0.8382352941176471\n",
      "frozenset({25, 54}) \t frozenset({4, 20}) \t 0.8378378378378378\n",
      "frozenset({63, 7}) \t frozenset({66, 60}) \t 0.9\n",
      "frozenset({66, 79}) \t frozenset({8, 60}) \t 0.8958333333333334\n",
      "frozenset({56, 81}) \t frozenset({32, 22}) \t 0.9487179487179487\n",
      "frozenset({96, 81}) \t frozenset({32, 40}) \t 0.9374999999999999\n",
      "frozenset({24, 55}) \t frozenset({25, 44}) \t 0.8333333333333333\n",
      "frozenset({50, 77}) \t frozenset({41, 5}) \t 0.8928571428571429\n",
      "frozenset({2, 79}) \t frozenset({8, 98}) \t 1.0\n",
      "frozenset({56, 6}) \t frozenset({80, 11}) \t 0.888888888888889\n",
      "frozenset({43, 62}) \t frozenset({83, 31}) \t 0.8064516129032259\n",
      "frozenset({42, 12}) \t frozenset({21, 6}) \t 0.9117647058823529\n",
      "frozenset({91, 86}) \t frozenset({10, 78}) \t 0.8163265306122449\n",
      "frozenset({56, 86}) \t frozenset({80, 78}) \t 0.8378378378378378\n",
      "frozenset({57, 12}) \t frozenset({40, 3}) \t 0.9404761904761905\n",
      "frozenset({3, 6}) \t frozenset({40, 12}) \t 0.8846153846153847\n",
      "frozenset({56, 37}) \t frozenset({20, 22}) \t 0.8095238095238095\n",
      "frozenset({43, 63}) \t frozenset({99, 38}) \t 0.8113207547169812\n",
      "frozenset({20, 70}) \t frozenset({19, 22}) \t 0.8\n",
      "frozenset({81, 7}) \t frozenset({32, 82}) \t 1.0\n",
      "frozenset({18, 79}) \t frozenset({8, 98}) \t 0.9736842105263157\n",
      "frozenset({14, 7}) \t frozenset({2, 98}) \t 0.8909090909090908\n",
      "frozenset({66, 2}) \t frozenset({98, 7}) \t 0.9056603773584905\n",
      "frozenset({16, 45}) \t frozenset({100, 71}) \t 0.972972972972973\n",
      "frozenset({81, 15}) \t frozenset({32, 88}) \t 0.8936170212765958\n",
      "frozenset({57, 21}) \t frozenset({74, 59}) \t 0.9230769230769231\n",
      "frozenset({67, 76}) \t frozenset({89, 85}) \t 0.8125\n",
      "frozenset({65, 58}) \t frozenset({29, 30}) \t 0.8181818181818182\n",
      "frozenset({3, 14}) \t frozenset({57, 74}) \t 0.813953488372093\n",
      "frozenset({64, 38}) \t frozenset({100, 63}) \t 0.8333333333333333\n",
      "frozenset({90, 13}) \t frozenset({38, 63}) \t 0.8378378378378378\n",
      "frozenset({64, 90}) \t frozenset({100, 45}) \t 0.8524590163934425\n",
      "frozenset({16, 46}) \t frozenset({19, 94}) \t 0.8799999999999999\n",
      "frozenset({64, 16}) \t frozenset({100, 71}) \t 0.8113207547169812\n",
      "frozenset({80, 21}) \t frozenset({11, 6}) \t 0.9444444444444443\n",
      "frozenset({2, 86}) \t frozenset({98, 7}) \t 0.9166666666666666\n",
      "frozenset({81, 3}) \t frozenset({32, 40}) \t 1.0\n",
      "frozenset({56, 15}) \t frozenset({75, 22}) \t 0.8275862068965516\n",
      "frozenset({54, 14}) \t frozenset({2, 98}) \t 0.8863636363636365\n",
      "frozenset({20, 46}) \t frozenset({19, 22}) \t 0.8333333333333334\n",
      "frozenset({91, 7}) \t frozenset({66, 60}) \t 0.8437499999999999\n",
      "frozenset({96, 66}) \t frozenset({91, 60}) \t 0.8787878787878789\n",
      "frozenset({40, 11}) \t frozenset({12, 6}) \t 0.8782608695652173\n",
      "frozenset({26, 86}) \t frozenset({97, 78}) \t 0.8055555555555556\n",
      "frozenset({67, 20}) \t frozenset({85, 22}) \t 0.8965517241379308\n",
      "frozenset({11, 45}) \t frozenset({80, 100}) \t 0.8846153846153847\n",
      "frozenset({41, 2}) \t frozenset({50, 98}) \t 0.8333333333333334\n",
      "frozenset({81, 23}) \t frozenset({32, 82}) \t 0.8405797101449277\n",
      "frozenset({59, 3}) \t frozenset({57, 74}) \t 0.8651685393258426\n",
      "frozenset({2, 4}) \t frozenset({98, 54}) \t 1.0\n",
      "frozenset({57, 55}) \t frozenset({74, 44}) \t 0.8076923076923078\n",
      "frozenset({88, 39}) \t frozenset({90, 15}) \t 0.8461538461538463\n",
      "frozenset({66, 45}) \t frozenset({27, 60}) \t 0.8333333333333333\n",
      "frozenset({4, 7}) \t frozenset({98, 54}) \t 0.8208955223880597\n",
      "frozenset({36, 70}) \t frozenset({19, 94}) \t 0.8730158730158731\n",
      "frozenset({72, 81}) \t frozenset({48, 32}) \t 0.926829268292683\n",
      "frozenset({98, 39}) \t frozenset({2, 14}) \t 0.8163265306122449\n",
      "frozenset({65, 2}) \t frozenset({98, 50}) \t 0.9642857142857142\n",
      "frozenset({66, 26}) \t frozenset({73, 9}) \t 0.8181818181818182\n",
      "frozenset({34, 74}) \t frozenset({59, 21}) \t 0.9714285714285714\n",
      "frozenset({21, 14}) \t frozenset({74, 59}) \t 0.875\n",
      "frozenset({51, 86}) \t frozenset({80, 78}) \t 0.8571428571428571\n",
      "frozenset({29, 79}) \t frozenset({65, 35}) \t 0.8571428571428571\n",
      "frozenset({49, 34}) \t frozenset({4, 54}) \t 0.8571428571428571\n",
      "frozenset({36, 31}) \t frozenset({51, 94}) \t 0.8\n",
      "frozenset({98, 20}) \t frozenset({4, 54}) \t 0.8085106382978724\n",
      "frozenset({81, 75}) \t frozenset({32, 22}) \t 0.8571428571428571\n",
      "frozenset({65, 92}) \t frozenset({76, 29}) \t 0.8405797101449277\n",
      "frozenset({40, 21}) \t frozenset({12, 6}) \t 0.8636363636363636\n",
      "frozenset({10, 11}) \t frozenset({80, 78}) \t 0.8958333333333334\n",
      "frozenset({36, 46}) \t frozenset({19, 94}) \t 0.9830508474576272\n",
      "frozenset({36, 71}) \t frozenset({16, 94}) \t 0.8875000000000001\n",
      "frozenset({34, 12}) \t frozenset({21, 6}) \t 0.9438202247191011\n",
      "frozenset({80, 12}) \t frozenset({11, 6}) \t 0.8318584070796459\n",
      "frozenset({6, 95}) \t frozenset({34, 21}) \t 0.9818181818181817\n",
      "frozenset({34, 11}) \t frozenset({21, 6}) \t 0.9718309859154929\n",
      "frozenset({11, 95}) \t frozenset({34, 6}) \t 0.9545454545454546\n",
      "frozenset({11, 95}) \t frozenset({34, 21}) \t 0.9545454545454546\n",
      "frozenset({11, 95}) \t frozenset({21, 6}) \t 0.9545454545454546\n",
      "frozenset({52, 4}) \t frozenset({1, 47}) \t 0.8604651162790696\n",
      "frozenset({1, 95}) \t frozenset({34, 4}) \t 0.8958333333333334\n",
      "frozenset({81, 6}) \t frozenset({40, 12}) \t 0.8148148148148148\n",
      "frozenset({81, 6}) \t frozenset({32, 12}) \t 0.888888888888889\n",
      "frozenset({81, 6}) \t frozenset({32, 40}) \t 0.8148148148148148\n",
      "frozenset({81, 12}) \t frozenset({32, 40}) \t 0.9571428571428572\n",
      "frozenset({50, 4}) \t frozenset({98, 54}) \t 0.8965517241379308\n",
      "frozenset({54, 95}) \t frozenset({34, 4}) \t 0.986842105263158\n",
      "frozenset({34, 98}) \t frozenset({4, 54}) \t 0.888888888888889\n",
      "frozenset({25, 86}) \t frozenset({10, 78}) \t 0.9565217391304347\n",
      "frozenset({10, 7}) \t frozenset({78, 86}) \t 0.9032258064516129\n",
      "frozenset({64, 75}) \t frozenset({100, 22}) \t 0.8124999999999999\n",
      "frozenset({96, 8}) \t frozenset({91, 60}) \t 0.8648648648648649\n",
      "frozenset({18, 36}) \t frozenset({19, 94}) \t 0.8596491228070176\n",
      "frozenset({32, 57}) \t frozenset({40, 3}) \t 0.8787878787878789\n",
      "frozenset({34, 84}) \t frozenset({42, 21}) \t 0.8360655737704917\n",
      "frozenset({42, 95}) \t frozenset({34, 21}) \t 0.9342105263157895\n",
      "frozenset({32, 6}) \t frozenset({40, 12}) \t 0.8333333333333334\n",
      "frozenset({30, 63}) \t frozenset({91, 13}) \t 0.8627450980392157\n",
      "frozenset({60, 79, 7}) \t frozenset({8, 66}) \t 1.0\n",
      "frozenset({40, 80, 6}) \t frozenset({11, 12}) \t 0.8620689655172413\n",
      "frozenset({11, 21, 95}) \t frozenset({34, 6}) \t 1.0\n",
      "frozenset({11, 6, 95}) \t frozenset({34, 21}) \t 1.0\n",
      "frozenset({34, 11, 95}) \t frozenset({21, 6}) \t 1.0\n",
      "frozenset({11, 95}) \t frozenset({34, 21, 6}) \t 0.9545454545454546\n",
      "frozenset({81, 12, 6}) \t frozenset({32, 40}) \t 0.9166666666666666\n",
      "frozenset({40, 81, 6}) \t frozenset({32, 12}) \t 1.0\n",
      "frozenset({32, 81, 6}) \t frozenset({40, 12}) \t 0.8148148148148148\n",
      "frozenset({81, 6}) \t frozenset({32, 40, 12}) \t 0.8148148148148148\n"
     ]
    }
   ],
   "source": [
    "print('If the target product is sold,',\n",
    "      'the most possible other product will also be sold is listed in the following\\n')\n",
    "print('Target product_ID', '\\tPossible product_ID', '\\tProbability')\n",
    "for i in rules:\n",
    "    print(i[0],'\\t',i[1],'\\t',i[2])"
   ]
  },
  {
   "cell_type": "markdown",
   "metadata": {},
   "source": [
    "data from transactions"
   ]
  },
  {
   "cell_type": "code",
   "execution_count": 13,
   "metadata": {},
   "outputs": [],
   "source": [
    "# import the till system's transactions\n",
    "tills = pd.read_csv('till_tansactions.csv', header = 0, usecols = [0,3])\n",
    "\n",
    "#get a data of lists of item which each transactions contains\n",
    "tills_group = tills.groupby('transationid')['productid'].apply(list)"
   ]
  },
  {
   "cell_type": "code",
   "execution_count": 14,
   "metadata": {},
   "outputs": [
    {
     "name": "stdout",
     "output_type": "stream",
     "text": [
      "transationid\n",
      "1         [14, 72, 15]\n",
      "2      [38, 29, 65, 4]\n",
      "3         [15, 38, 44]\n",
      "4     [38, 29, 70, 44]\n",
      "5           [3, 4, 72]\n",
      "6          [5, 53, 16]\n",
      "7         [38, 67, 44]\n",
      "8         [38, 44, 68]\n",
      "9         [15, 16, 54]\n",
      "10                [27]\n",
      "Name: productid, dtype: object\n"
     ]
    }
   ],
   "source": [
    "print(tills_group[:10])"
   ]
  },
  {
   "cell_type": "code",
   "execution_count": 15,
   "metadata": {},
   "outputs": [],
   "source": [
    "t_combine_list, t_support_data = calc_support(tills_group, min_support = 0.2)"
   ]
  },
  {
   "cell_type": "code",
   "execution_count": 16,
   "metadata": {},
   "outputs": [],
   "source": [
    "t_rules = apriori(t_combine_list, t_support_data, min_conf = 0.1)"
   ]
  },
  {
   "cell_type": "code",
   "execution_count": 17,
   "metadata": {},
   "outputs": [
    {
     "name": "stdout",
     "output_type": "stream",
     "text": [
      "If the target product is sold, the most possible other product will also be sold is listed in the following\n",
      "\n",
      "Target product_ID \tPossible product_ID \tProbability\n",
      "frozenset({38}) \t frozenset({44}) \t 0.9090909090909092\n",
      "frozenset({44}) \t frozenset({38}) \t 1.0\n"
     ]
    }
   ],
   "source": [
    "print('If the target product is sold,',\n",
    "      'the most possible other product will also be sold is listed in the following\\n')\n",
    "print('Target product_ID', '\\tPossible product_ID', '\\tProbability')\n",
    "for i in t_rules:\n",
    "    print(i[0],'\\t',i[1],'\\t',i[2])"
   ]
  },
  {
   "cell_type": "code",
   "execution_count": null,
   "metadata": {},
   "outputs": [],
   "source": []
  }
 ],
 "metadata": {
  "kernelspec": {
   "display_name": "Python 3",
   "language": "python",
   "name": "python3"
  },
  "language_info": {
   "codemirror_mode": {
    "name": "ipython",
    "version": 3
   },
   "file_extension": ".py",
   "mimetype": "text/x-python",
   "name": "python",
   "nbconvert_exporter": "python",
   "pygments_lexer": "ipython3",
   "version": "3.6.2"
  }
 },
 "nbformat": 4,
 "nbformat_minor": 2
}
